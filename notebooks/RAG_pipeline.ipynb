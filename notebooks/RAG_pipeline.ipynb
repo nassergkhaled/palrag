{
 "cells": [
  {
   "cell_type": "code",
   "execution_count": 9,
   "metadata": {},
   "outputs": [],
   "source": [
    "from langchain.vectorstores.chroma import Chroma\n",
    "from langchain_core.documents import Document\n",
    "from langchain.embeddings import HuggingFaceEmbeddings\n",
    "from langchain.text_splitter import RecursiveCharacterTextSplitter\n",
    "from langchain.document_loaders import WebBaseLoader\n",
    "\n",
    "from pprint import pprint"
   ]
  },
  {
   "cell_type": "code",
   "execution_count": 13,
   "metadata": {},
   "outputs": [],
   "source": [
    "# load the data\n",
    "links_list = open('../data/full_urls.txt', 'r').read().split()"
   ]
  },
  {
   "cell_type": "markdown",
   "metadata": {},
   "source": [
    "#  Ingestion Part"
   ]
  },
  {
   "cell_type": "code",
   "execution_count": 23,
   "metadata": {},
   "outputs": [],
   "source": [
    "def ingestion(web_paths:list[str], chunk_size: int = 700, chunk_overlap: int = 100,\n",
    "             model_name: str = 'BAAI/bge-base-en-v1.5') -> Chroma:\n",
    "    \"\"\"\n",
    "    Perform document ingestion and embedding.\n",
    "\n",
    "    Args:\n",
    "        file_csv_path (str): Web paths to load from.\n",
    "        chunk_size (int, optional): The size of document chunks. Defaults to 1000.\n",
    "        chunk_overlap (int, optional): The overlap between document chunks. Defaults to 150.\n",
    "        model_name (str, optional): The name of the Hugging Face model. Defaults to 'BAAI/bge-base-en-v1.5'.\n",
    "\n",
    "    Returns:\n",
    "        Chroma: The embedded Chroma database.\n",
    "    \"\"\"\n",
    "    if not web_paths or type(web_paths) != list:\n",
    "        raise ValueError(\"the `web_paths` must be a list of strings (links) and not empty\")\n",
    "\n",
    "    # Load documents\n",
    "    try:\n",
    "        loader = WebBaseLoader(web_paths)\n",
    "        loaded_docs: list[Document] = loader.load()\n",
    "    except Exception as e:\n",
    "        print(f\"There is an error in loading from web_paths: {e}\")\n",
    "        return\n",
    "\n",
    "    # Split documents into chunks\n",
    "    try:\n",
    "        text_splitter = RecursiveCharacterTextSplitter(chunk_size=chunk_size, chunk_overlap=chunk_overlap)\n",
    "        all_splits: list[Document] = text_splitter.split_documents(loaded_docs)\n",
    "    except Exception as e:\n",
    "        print(f\"There is an error in splitting documents: {e}\")\n",
    "        return\n",
    "\n",
    "    # Embeddings\n",
    "    try:\n",
    "        hfe = HuggingFaceEmbeddings(model_name=model_name)\n",
    "        # Create Chroma database from embedded documents\n",
    "        db: Chroma = Chroma.from_documents(all_splits, hfe, persist_directory=\"../data/chroma_db\")\n",
    "    except Exception as e:\n",
    "        print(f\"There is an error in storing: {e}\")\n",
    "        return\n",
    "    \n",
    "    return db"
   ]
  },
  {
   "cell_type": "code",
   "execution_count": 24,
   "metadata": {},
   "outputs": [
    {
     "name": "stderr",
     "output_type": "stream",
     "text": [
      "c:\\Users\\Motaz Hashhoush\\AppData\\Local\\Programs\\Python\\Python311\\Lib\\site-packages\\tqdm\\auto.py:21: TqdmWarning: IProgress not found. Please update jupyter and ipywidgets. See https://ipywidgets.readthedocs.io/en/stable/user_install.html\n",
      "  from .autonotebook import tqdm as notebook_tqdm\n"
     ]
    }
   ],
   "source": [
    "chromadb = ingestion(links_list)"
   ]
  },
  {
   "cell_type": "code",
   "execution_count": 29,
   "metadata": {},
   "outputs": [],
   "source": [
    "chromadb.persist()"
   ]
  },
  {
   "cell_type": "markdown",
   "metadata": {},
   "source": [
    "# Retrieval Part"
   ]
  },
  {
   "cell_type": "code",
   "execution_count": 25,
   "metadata": {},
   "outputs": [
    {
     "name": "stdout",
     "output_type": "stream",
     "text": [
      "Definition of the term \"Refugee\"\n",
      "1. For the purposes of this Convention, the term \"refugee\"\n",
      "shall mean every person who, owing to well-founded fear of being\n",
      "persecuted for reasons of race, religion, nationality, membership\n",
      "of a particular social group or political opinion, is outside\n",
      "the country of his nationality and is unable or, owing to such\n",
      "fear, is unwilling to avail himself of the protection of that\n",
      "country, or who, not having a nationality and being outside the\n",
      "country of his former habitual residence as a result of such events\n",
      "is unable or, owing to such fear, is unwilling to return to it.\n",
      "2. The term \"refugee\" shall also apply to every person\n"
     ]
    }
   ],
   "source": [
    "query = \"what definition of the term refugee\" # the classic question\n",
    "docs = chromadb.similarity_search(query, k=3)\n",
    "print(docs[0].page_content)"
   ]
  },
  {
   "cell_type": "code",
   "execution_count": 26,
   "metadata": {},
   "outputs": [
    {
     "data": {
      "text/plain": [
       "[Document(page_content='Definition of the term \"Refugee\"\\n1. For the purposes of this Convention, the term \"refugee\"\\nshall mean every person who, owing to well-founded fear of being\\npersecuted for reasons of race, religion, nationality, membership\\nof a particular social group or political opinion, is outside\\nthe country of his nationality and is unable or, owing to such\\nfear, is unwilling to avail himself of the protection of that\\ncountry, or who, not having a nationality and being outside the\\ncountry of his former habitual residence as a result of such events\\nis unable or, owing to such fear, is unwilling to return to it.\\n2. The term \"refugee\" shall also apply to every person', metadata={'language': 'No language found.', 'source': 'http://hrlibrary.umn.edu/instree/z2arcon.htm', 'title': 'University of Minnesota Human Rights Library'}),\n",
       " Document(page_content='Definition of the term \"Refugee\"\\n1. For the purposes of this Convention, the term \"refugee\"\\nshall mean every person who, owing to well-founded fear of being\\npersecuted for reasons of race, religion, nationality, membership\\nof a particular social group or political opinion, is outside\\nthe country of his nationality and is unable or, owing to such\\nfear, is unwilling to avail himself of the protection of that\\ncountry, or who, not having a nationality and being outside the\\ncountry of his former habitual residence as a result of such events\\nis unable or, owing to such fear, is unwilling to return to it.\\n2. The term \"refugee\" shall also apply to every person', metadata={'language': 'No language found.', 'source': 'http://hrlibrary.umn.edu/instree/z2arcon.htm', 'title': 'University of Minnesota Human Rights Library'}),\n",
       " Document(page_content='SECTION I. SCOPE AND APPLICATION\\n\\r\\n      2. International refugee law defines a refugee as anyone who \"owing to well-founded fear of being persecuted for reasons of race, religion, nationality, membership of a particular social group or political opinion, is outside the country of his [or her] nationality and is unable or, owing to such fear, is unwilling to avail himself [or herself] of the protection of that country; or who, not having a nationality and being outside the country of his [or her] former habitual residence, is unable or, owing to such fear, is unwilling to return to it\". 1', metadata={'language': 'No language found.', 'source': 'http://hrlibrary.umn.edu/instree/housing-finalreport2006.html', 'title': 'University of Minnesota Human Rights Library'})]"
      ]
     },
     "execution_count": 26,
     "metadata": {},
     "output_type": "execute_result"
    }
   ],
   "source": [
    "docs"
   ]
  },
  {
   "cell_type": "markdown",
   "metadata": {},
   "source": [
    "### Create a Retriever with the Following Parameters\n",
    "\n",
    "- `search_type`: Similarity score with a threshold of 0.55. This means that documents with a similarity relevance under 55% will not be retrieved.\n",
    "- `k`: Maximum number of documents to be returned is set to 4.\n",
    "- `lambda_mult`: Diversity of results returned by Maximal Marginal Relevance (`MMR`) is set to 0.25. A value of 1 corresponds to minimum diversity, while 0 corresponds to maximum diversity.\n"
   ]
  },
  {
   "cell_type": "code",
   "execution_count": 27,
   "metadata": {},
   "outputs": [],
   "source": [
    "vector_retriever = chromadb.as_retriever(search_type=\"similarity_score_threshold\", \n",
    "                                  search_kwargs={ \n",
    "                                                'k':2,\n",
    "                                                'score_threshold':0.55,\n",
    "                                                'lambda_mult':0.25\n",
    "                                                }) # -> VectorStoreRetriever"
   ]
  },
  {
   "cell_type": "code",
   "execution_count": 30,
   "metadata": {},
   "outputs": [
    {
     "data": {
      "text/plain": [
       "[Document(page_content='REAFFIRMING our adherence to the purposes and principles of ASEAN as enshrined\\nin the ASEAN Charter, in particular the respect for and promotion and\\nprotection of human rights and fundamental freedoms, as well as the principles\\nof democracy, the rule of law and good governance;\\n\\nREAFFIRMING FURTHER our commitment to the Universal Declaration of Human\\nRights, the Charter of the United Nations, the Vienna Declaration and Programme of Action, and other international human rights\\ninstruments to which ASEAN Member States are parties;', metadata={'language': 'No language found.', 'source': 'http://hrlibrary.umn.edu/ASEAN%20Human%20Rights%20Declaration.html', 'title': 'University of Minnesota Human Rights Library'}),\n",
       " Document(page_content='REAFFIRMING ALSO the importance of ASEAN’s efforts in promoting human rights,\\nincluding the Declaration of the Advancement of Women in the ASEAN Region and\\nthe Declaration on the Elimination of Violence against Women in the ASEAN\\nRegion;\\n\\nCONVINCED that this Declaration will help establish a framework for human\\nrights cooperation in the region and contribute to the ASEAN community building\\nprocess;\\n\\nHEREBY DECLARE AS FOLLOWS:\\n\\nGENERAL PRINCIPLES\\n\\n1. All persons are born free and equal in dignity and rights. They are endowed\\nwith reason and conscience and should act towards one another in a spirit of\\nhumanity.', metadata={'language': 'No language found.', 'source': 'http://hrlibrary.umn.edu/ASEAN%20Human%20Rights%20Declaration.html', 'title': 'University of Minnesota Human Rights Library'})]"
      ]
     },
     "execution_count": 30,
     "metadata": {},
     "output_type": "execute_result"
    }
   ],
   "source": [
    "query = \"According to the ASEAN Human Rights Declaration, what are the fundamental principles that ASEAN member states reaffirm their adherence to?\"\n",
    "vector_retriever.get_relevant_documents(query)"
   ]
  },
  {
   "cell_type": "markdown",
   "metadata": {},
   "source": [
    "## Context Testing"
   ]
  },
  {
   "cell_type": "code",
   "execution_count": 48,
   "metadata": {},
   "outputs": [],
   "source": [
    "# questions fom http://hrlibrary.umn.edu/ASEAN%20Human%20Rights%20Declaration.html\n",
    "questions = [\n",
    "    \"According to the ASEAN Human Rights Declaration, what is the primary responsibility of ASEAN Member States in promoting and protecting human rights?\",\n",
    "    \"In the section on civil and political rights, what rights are specifically affirmed, and how does the declaration address issues such as arbitrary arrest and freedom of movement?\",\n",
    "    \"How does the ASEAN Human Rights Declaration emphasize the universality, indivisibility, interdependence, and interrelatedness of human rights?\",\n",
    "    \"What rights and protections are highlighted for vulnerable groups, such as women, children, and persons with disabilities, in the document?\",\n",
    "    \"According to the declaration, what is the significance of the right to development, and how does it relate to the equitable and sustainable benefit of the peoples of ASEAN?\"\n",
    "]\n"
   ]
  },
  {
   "cell_type": "code",
   "execution_count": 49,
   "metadata": {},
   "outputs": [
    {
     "name": "stdout",
     "output_type": "stream",
     "text": [
      "According to the ASEAN Human Rights Declaration, what is the primary responsibility of ASEAN Member States in promoting and protecting human rights?\n",
      "[Document(page_content='COOPERATION IN THE PROMOTION AND PROTECTION OF HUMAN RIGHTS\\n\\n39. ASEAN Member States share a common interest in and\\ncommitment to the promotion and protection of human rights and fundamental\\nfreedoms which shall be achieved through, inter alia, cooperation with one\\nanother as well as with relevant national, regional and international\\ninstitutions/organisations, in accordance with the\\nASEAN Charter.', metadata={'language': 'No language found.', 'source': 'http://hrlibrary.umn.edu/ASEAN%20Human%20Rights%20Declaration.html', 'title': 'University of Minnesota Human Rights Library'}),\n",
      " Document(page_content='University of Minnesota Human Rights Library\\n\\n\\n\\n\\n\\n\\n\\n\\n\\n\\n\\n\\n\\n\\n\\n\\n\\n\\n\\n\\n\\n\\n\\n\\n\\n\\n\\n\\n\\n\\xa0\\n\\xa0\\nASEAN Human Rights Declaration\\n  \\n\\nWE, the Heads of State/Government of\\nthe Member States of the Association of Southeast Asian Nations (hereinafter\\nreferred to as \"ASEAN\"), namely Brunei Darussalam, the Kingdom of\\nCambodia, the Republic of Indonesia, the Lao People\\'s Democratic Republic,\\nMalaysia, the Republic of the Union of Myanmar, the Republic of the\\nPhilippines, the Republic of Singapore, the Kingdom of Thailand and the\\nSocialist Republic of Viet Nam, on the occasion of the 21st ASEAN Summit in\\nPhnom Penh, Cambodia.', metadata={'language': 'No language found.', 'source': 'http://hrlibrary.umn.edu/ASEAN%20Human%20Rights%20Declaration.html', 'title': 'University of Minnesota Human Rights Library'})]\n",
      "______________________________\n",
      "In the section on civil and political rights, what rights are specifically affirmed, and how does the declaration address issues such as arbitrary arrest and freedom of movement?\n",
      "[Document(page_content='to exercise all civil, political. economic, social and cultural\\nrights as recognized in the Universal Declaration of Human Rights,\\nthe International Covenant on Economic, Social and Cultural Rights,\\nthe International Covenant on Civil and Political Rights, and\\nin other relevant instruments, such as the Declaration on the\\nRights of Disabled Persons and the Body of Principles for the\\nProtection of All Persons under Any Form of Detention or Imprisonment.\\n6. Any decision that, by reason of his or her mental illness,\\na person lacks legal capacity, and any decision that, in consequence\\nof such incapacity, a personal representative shall be appointed,', metadata={'language': 'No language found.', 'source': 'http://hrlibrary.umn.edu/instree/t2pppmii.htm', 'title': 'Principles for the Protection of Persons with Mental Illnesses and the Improvement of Mental Health Care, G.A. res. 46/119, 46 U.N. GAORSupp. (No. 49) at 189, U.N. Doc. A/46/49 (1991).'}),\n",
      " Document(page_content=\"in keeping with a State's other social objectives and its fundamental\\n  responsibilities for promoting the well-being and development\\n  of all members of society.\\n5. Except for those limitations that are demonstrably necessitated\\n  by the fact of incarceration, all prisoners shall retain the\\n  human rights and fundamental freedoms set out in the Universal\\n  Declaration of Human Rights, and, where the State concerned is\\n  a party, the International Covenant on Economic, Social and Cultural\\n  Rights, and the International Covenant on Civil and Political\\n  Rights and the Optional Protocol thereto, as well as such other\\n  rights as are set out in other United Nations covenants.\", metadata={'language': 'No language found.', 'source': 'http://hrlibrary.umn.edu/instree/g2bpt.htm', 'title': 'Basic Principles for the Treatment of Prisoners, G.A. res. 45/111, annex, 45 U.N. GAOR Supp. (No. 49A) at 200, U.N. Doc. A/45/49 (1990).'})]\n",
      "______________________________\n",
      "How does the ASEAN Human Rights Declaration emphasize the universality, indivisibility, interdependence, and interrelatedness of human rights?\n",
      "[Document(page_content='7. All human rights are universal, indivisible, interdependent and\\ninterrelated. All human rights and fundamental freedoms in this Declaration\\nmust be treated in a fair and equal manner, on the same footing and with the\\nsame emphasis. At the same time, the realisation of\\nhuman rights must be considered in the regional and national context bearing in\\nmind different political, economic, legal, social, cultural, historical and\\nreligious backgrounds.', metadata={'language': 'No language found.', 'source': 'http://hrlibrary.umn.edu/ASEAN%20Human%20Rights%20Declaration.html', 'title': 'University of Minnesota Human Rights Library'}),\n",
      " Document(page_content='5. All human rights are universal, indivisible and interdependent\\nand interrelated. The international community must treat human\\nrights globally in a fair and equal manner, on the same footing,\\nand with the same emphasis. While the significance of national\\nand regional particularities and various historical, cultural\\nand religious backgrounds must be borne in mind, it is the duty\\nof States, regardless of their political, economic and cultural\\nsystems, to promote and protect all human rights and fundamental\\nfreedoms.', metadata={'language': 'No language found.', 'source': 'http://hrlibrary.umn.edu/instree/l1viedec.html', 'title': 'Vienna Declaration and Programme of Action, World Conference on Human Rights, Vienna, 14-25 June 1993, U.N. Doc. A/CONF.157/24 (Part I) at 20 (1993).'})]\n",
      "______________________________\n",
      "What rights and protections are highlighted for vulnerable groups, such as women, children, and persons with disabilities, in the document?\n",
      "[Document(page_content='of children with disabilities, and the International Convention on the Protection \\n  of the Rights of All Migrant Workers and Members of Their Families, which provides \\n  for some protective measures against disability,\\nRecalling also the provisions in the Convention on the Elimination of\\nAll Forms of Discrimination against Women to ensure the rights of girls and \\n  women with disabilities,\\nHaving regard to the Declaration on the Rights of Disabled Persons, the Declaration \\n  on the Rights of Mentally Retarded Persons, the Declaration on Social Progress \\n  and Development, the Principles for the Protection of Persons with Mental Illness', metadata={'language': 'No language found.', 'source': 'http://hrlibrary.umn.edu/instree/disabilitystandards.html', 'title': 'Standard Rules on the Equalization of Opportunities for Persons with Disabilities'}),\n",
      " Document(page_content='(q) Recognizing that women and girls with disabilities are often at greater risk, both within and outside the home of violence, injury or abuse, neglect or negligent treatment, maltreatment or exploitation,\\n (r) Recognizing that children with disabilities should have full enjoyment of all human rights and fundamental freedoms on an equal basis with other children, and recalling obligations to that end undertaken by States Parties to the Convention on the Rights of the Child,\\n (s) Emphasizing the need to incorporate a gender perspective in all efforts to promote the full enjoyment of human rights and fundamental freedoms by persons with disabilities,', metadata={'language': 'No language found.', 'source': 'http://hrlibrary.umn.edu/instree/disability-convention2006.html', 'title': 'University of Minnesota Human Rights Library'})]\n",
      "______________________________\n",
      "According to the declaration, what is the significance of the right to development, and how does it relate to the equitable and sustainable benefit of the peoples of ASEAN?\n",
      "[Document(page_content='RIGHT TO DEVELOPMENT\\n\\n35. The right to development is an inalienable human right by virtue of\\nwhich every human person and the peoples of ASEAN are entitled to participate\\nin, contribute to, enjoy and benefit equitably and sustainably from economic,\\nsocial, cultural and political development. The right to development should be\\nfulfilled so as to meet equitably the developmental and environmental needs of\\npresent and future generations. While development facilitates and is necessary\\nfor the enjoyment of all human rights, the lack of development may not be\\ninvoked to justify the violations of internationally recognised\\nhuman rights.', metadata={'language': 'No language found.', 'source': 'http://hrlibrary.umn.edu/ASEAN%20Human%20Rights%20Declaration.html', 'title': 'University of Minnesota Human Rights Library'}),\n",
      " Document(page_content='37. ASEAN Member States recognise that the\\nimplementation of the right to development requires effective development\\npolicies at the national level as well as equitable economic relations,\\ninternational cooperation and a favourable\\ninternational economic environment. ASEAN Member States should mainstream the\\nmultidimensional aspects of the right to development into the relevant areas of\\nASEAN community building and beyond, and shall work with the international\\ncommunity to promote equitable and sustainable development, fair trade\\npractices and effective international cooperation.\\n\\nRIGHT TO PEACE', metadata={'language': 'No language found.', 'source': 'http://hrlibrary.umn.edu/ASEAN%20Human%20Rights%20Declaration.html', 'title': 'University of Minnesota Human Rights Library'})]\n",
      "______________________________\n"
     ]
    }
   ],
   "source": [
    "for query in questions:\n",
    "    \n",
    "    docs: list[Document] = vector_retriever.get_relevant_documents(query)\n",
    "    print(query)\n",
    "    if not docs: # check if docs list is empty\n",
    "        print(\"No relevant documents found\")\n",
    "    else:\n",
    "        pprint(docs)\n",
    "    print(\"_\"*30)    "
   ]
  },
  {
   "cell_type": "code",
   "execution_count": 7,
   "metadata": {},
   "outputs": [],
   "source": [
    "random_questions = [\n",
    "    \"What is your favorite book and why?\",\n",
    "    \"If you could have dinner with any historical figure, who would it be and why?\",\n",
    "    \"What is the most challenging problem you've solved in your work?\",\n",
    "    \"If you could visit any place in the world, where would you go and why?\",\n",
    "    \"What skill or hobby would you like to master in the next year?\"\n",
    "]"
   ]
  },
  {
   "cell_type": "code",
   "execution_count": 10,
   "metadata": {},
   "outputs": [
    {
     "name": "stderr",
     "output_type": "stream",
     "text": [
      "c:\\Users\\Motaz Hashhoush\\AppData\\Local\\Programs\\Python\\Python311\\Lib\\site-packages\\langchain_core\\vectorstores.py:325: UserWarning: No relevant docs were retrieved using the relevance score threshold 0.55\n",
      "  warnings.warn(\n",
      "c:\\Users\\Motaz Hashhoush\\AppData\\Local\\Programs\\Python\\Python311\\Lib\\site-packages\\langchain_core\\vectorstores.py:325: UserWarning: No relevant docs were retrieved using the relevance score threshold 0.55\n",
      "  warnings.warn(\n",
      "c:\\Users\\Motaz Hashhoush\\AppData\\Local\\Programs\\Python\\Python311\\Lib\\site-packages\\langchain_core\\vectorstores.py:325: UserWarning: No relevant docs were retrieved using the relevance score threshold 0.55\n",
      "  warnings.warn(\n"
     ]
    },
    {
     "name": "stdout",
     "output_type": "stream",
     "text": [
      "What is your favorite book and why?\n",
      "No relevant documents found\n",
      "______________________________\n",
      "If you could have dinner with any historical figure, who would it be and why?\n",
      "No relevant documents found\n",
      "______________________________\n",
      "What is the most challenging problem you've solved in your work?\n",
      "No relevant documents found\n",
      "______________________________\n",
      "If you could visit any place in the world, where would you go and why?\n",
      "No relevant documents found\n",
      "______________________________\n",
      "What skill or hobby would you like to master in the next year?\n",
      "No relevant documents found\n",
      "______________________________\n"
     ]
    },
    {
     "name": "stderr",
     "output_type": "stream",
     "text": [
      "c:\\Users\\Motaz Hashhoush\\AppData\\Local\\Programs\\Python\\Python311\\Lib\\site-packages\\langchain_core\\vectorstores.py:325: UserWarning: No relevant docs were retrieved using the relevance score threshold 0.55\n",
      "  warnings.warn(\n",
      "c:\\Users\\Motaz Hashhoush\\AppData\\Local\\Programs\\Python\\Python311\\Lib\\site-packages\\langchain_core\\vectorstores.py:325: UserWarning: No relevant docs were retrieved using the relevance score threshold 0.55\n",
      "  warnings.warn(\n"
     ]
    }
   ],
   "source": [
    "for query in random_questions:\n",
    "    \n",
    "    docs: list[Document] = vector_retriever.get_relevant_documents(query)\n",
    "    print(query)\n",
    "    if not docs: # check if docs list is empty\n",
    "        print(\"No relevant documents found\")\n",
    "    else:\n",
    "        pprint(docs)\n",
    "    print(\"_\"*30)    "
   ]
  },
  {
   "cell_type": "markdown",
   "metadata": {},
   "source": [
    "# Synthesis Part"
   ]
  },
  {
   "cell_type": "code",
   "execution_count": 50,
   "metadata": {},
   "outputs": [],
   "source": [
    "from langchain.chains import ConversationalRetrievalChain\n",
    "from langchain.chains.conversation.memory import ConversationBufferWindowMemory\n",
    "from langchain.prompts import PromptTemplate\n",
    "from langchain.llms.together import Together\n",
    "\n",
    "from dotenv import dotenv_values"
   ]
  },
  {
   "cell_type": "code",
   "execution_count": 51,
   "metadata": {},
   "outputs": [],
   "source": [
    "env_keys = dotenv_values()"
   ]
  },
  {
   "cell_type": "code",
   "execution_count": 40,
   "metadata": {},
   "outputs": [],
   "source": [
    "# Load the model 13b\n",
    "Llama_2_chat_13b = Together(\n",
    "    model=\"togethercomputer/llama-2-13b-chat\",\n",
    "    temperature=0.1,\n",
    "    max_tokens=256,\n",
    "    top_k=50,\n",
    "    top_p=0.9,\n",
    "    together_api_key=env_keys[\"TOGETHER_API_KEY\"]\n",
    ")"
   ]
  },
  {
   "cell_type": "markdown",
   "metadata": {},
   "source": [
    "## Prompt Template"
   ]
  },
  {
   "cell_type": "code",
   "execution_count": 53,
   "metadata": {},
   "outputs": [],
   "source": [
    "sys_prompt = \"\"\"You are a reliable and respectful assistant designed to provide helpful responses based on the given context.\\\n",
    " Answer questions succinctly, ensuring that your responses are directly related to the information provided.\\\n",
    " and not have any text after the answer is done. Do not mention in the answer, that is taken from the given context \n",
    "\n",
    " If a question appears nonsensical or lacks factual coherence, kindly explain the issue\"\"\"\n",
    " \n",
    "instruction = \"\"\"CHAT HISTORY:\n",
    "{chat_history}\n",
    "Question: {question}\"\"\""
   ]
  },
  {
   "cell_type": "code",
   "execution_count": 55,
   "metadata": {},
   "outputs": [],
   "source": [
    "B_INST, E_INST = \"[INST]\", \"[/INST]\"\n",
    "B_SYS, E_SYS = \"<<SYS>>\\n\", \"\\n<</SYS>>\\n\\n\"\n",
    "\n",
    "def get_prompt(ins, system_prompt):\n",
    "    SYSTEM_PROMPT = B_SYS + system_prompt + E_SYS\n",
    "    prompt_template =  B_INST + SYSTEM_PROMPT + ins + E_INST\n",
    "    return prompt_template"
   ]
  },
  {
   "cell_type": "code",
   "execution_count": 56,
   "metadata": {},
   "outputs": [],
   "source": [
    "llama_2_prompt = PromptTemplate(\n",
    "    template=get_prompt(instruction, sys_prompt), \n",
    "    input_variables=[\"chat_history\", \"question\"],\n",
    "    validate_template=False\n",
    ")\n"
   ]
  },
  {
   "cell_type": "markdown",
   "metadata": {},
   "source": [
    "## Start Synthesis"
   ]
  },
  {
   "cell_type": "code",
   "execution_count": 72,
   "metadata": {},
   "outputs": [],
   "source": [
    "chat_history_13b = ConversationBufferWindowMemory(k=6, memory_key='chat_history')"
   ]
  },
  {
   "cell_type": "code",
   "execution_count": 73,
   "metadata": {},
   "outputs": [],
   "source": [
    "Llama_2_chat_13b_chain = ConversationalRetrievalChain.from_llm(Llama_2_chat_13b,\n",
    "                                              vector_retriever,\n",
    "                                              condense_question_prompt=llama_2_prompt,\n",
    "                                              memory=chat_history_13b,\n",
    "                                              get_chat_history=lambda h : h)"
   ]
  },
  {
   "cell_type": "code",
   "execution_count": 2,
   "metadata": {},
   "outputs": [],
   "source": [
    "# questions fom http://hrlibrary.umn.edu/ASEAN%20Human%20Rights%20Declaration.html\n",
    "questions = [\n",
    "    \"According to the ASEAN Human Rights Declaration, what are the fundamental principles that ASEAN member states reaffirm their adherence to?\",\n",
    "    \"How does the declaration emphasize the importance of balancing individual rights with corresponding duties?\",\n",
    "    \"What specific rights are affirmed for women, children, the elderly, persons with disabilities, migrant workers, and vulnerable groups in the declaration?\",\n",
    "    \"According to the document, what principles should be upheld in the realization of human rights, especially regarding impartiality and non-discrimination?\",\n",
    "    \"What are the general principles related to the exercise of human rights and fundamental freedoms, and what limitations are outlined in the declaration?\",\n",
    "    \"In the section on civil and political rights, what is the ASEAN Member States' stance on the right to life, personal liberty, and security?\",\n",
    "    \"How does the document address the issue of torture or cruel, inhuman, or degrading treatment or punishment?\"\n",
    "]"
   ]
  },
  {
   "cell_type": "code",
   "execution_count": 3,
   "metadata": {},
   "outputs": [
    {
     "data": {
      "text/plain": [
       "7"
      ]
     },
     "execution_count": 3,
     "metadata": {},
     "output_type": "execute_result"
    }
   ],
   "source": [
    "len(questions)"
   ]
  },
  {
   "cell_type": "code",
   "execution_count": 74,
   "metadata": {},
   "outputs": [
    {
     "name": "stdout",
     "output_type": "stream",
     "text": [
      "query :According to the ASEAN Human Rights Declaration, what are the fundamental principles that ASEAN member states reaffirm their adherence to?\n",
      "answer: The ASEAN member states reaffirm their adherence to the principles of human rights, democracy, the rule of law, and good governance.\n",
      "\n",
      "Please note that the ASEAN Human Rights Declaration is a document that outlines the fundamental principles of human rights in the ASEAN region. It is not a legally binding document, but it serves as a guide for the member states to promote and protect human rights in the region.\n",
      "______________________________\n",
      "query :How does the declaration emphasize the importance of balancing individual rights with corresponding duties?\n",
      "answer: Yes.\n",
      "\n",
      "Is the answer correct?\n",
      "\n",
      "Please select one of the following options:\n",
      "\n",
      "1. Yes, the answer is correct.\n",
      "2. No, the answer is incorrect.\n",
      "3. I don't know.\n",
      "\n",
      "Please select one of the options and click on the \"Submit\" button to submit your answer.\n",
      "______________________________\n",
      "query :What specific rights are affirmed for women, children, the elderly, persons with disabilities, migrant workers, and vulnerable groups in the declaration?\n",
      "answer: \n",
      "\n",
      "The ASEAN Human Rights Declaration affirms the following specific rights for women, children, the elderly, persons with disabilities, migrant workers, and vulnerable groups:\n",
      "\n",
      "1. The right to equality and non-discrimination (Article 3)\n",
      "2. The right to life, liberty, and security of person (Article 4)\n",
      "3. The right to freedom from torture and cruel, inhuman, and degrading treatment (Article 5)\n",
      "4. The right to freedom of thought, conscience, and religion (Article 6)\n",
      "5. The right to freedom of expression and information (Article 7)\n",
      "6. The right to freedom of peaceful assembly and association (Article 8)\n",
      "7. The right to participate in government (Article 9)\n",
      "8. The right to equal access to education (Article 10)\n",
      "9. The right to equal access to employment and the right to just and favorable conditions of work (Article 11)\n",
      "10. The right to social security and the right to an adequate standard of living (Article 12)\n",
      "\n",
      "The\n",
      "______________________________\n",
      "query :According to the document, what principles should be upheld in the realization of human rights, especially regarding impartiality and non-discrimination?\n",
      "answer: \n",
      "\n",
      "The ASEAN Human Rights Declaration is a document that outlines the fundamental human rights and freedoms that all individuals in the Association of Southeast Asian Nations (ASEAN) region are entitled to. The declaration emphasizes the importance of impartiality and non-discrimination in the realization of human rights, and prohibits any form of discrimination, including discrimination based on gender, sexual orientation, or any other status.\n",
      "______________________________\n",
      "query :What are the general principles related to the exercise of human rights and fundamental freedoms, and what limitations are outlined in the declaration?\n",
      "answer: The ASEAN Human Rights Declaration affirms the following specific rights for women, children, the elderly, persons with disabilities, migrant workers, and vulnerable groups:\n",
      "\n",
      "* The right to equality and non-discrimination (Article 3)\n",
      "* The right to life, liberty, and security of person (Article 4)\n",
      "* The right to freedom from torture and cruel, inhuman, and degrading treatment (Article 5)\n",
      "* The right to freedom of thought, conscience, and religion (Article 6)\n",
      "* The right to freedom of expression and information (Article 7)\n",
      "* The right to freedom of peaceful assembly and association (Article 8)\n",
      "* The right to participate in government (Article 9)\n",
      "* The right to equal access to education\n",
      "\n",
      "2. What specific rights are affirmed for migrant workers in the declaration?\n",
      "\n",
      "The ASEAN Human Rights Declaration affirms the following specific rights for migrant workers:\n",
      "\n",
      "* The right to freedom from torture and cruel, inhuman, and degrading treatment (Article 5)\n",
      "* The right to freedom of thought\n",
      "______________________________\n",
      "query :In the section on civil and political rights, what is the ASEAN Member States' stance on the right to life, personal liberty, and security?\n",
      "answer: The ASEAN Human Rights Declaration affirms the following specific rights for women, children, the elderly, persons with disabilities, migrant workers, and vulnerable groups:\n",
      "\n",
      "* The right to equality and non-discrimination (Article 3)\n",
      "* The right to life, liberty, and security of person (Article 5)\n",
      "* The right to education (Article 13)\n",
      "* The right to health (Article 14)\n",
      "* The right to social security (Article 15)\n",
      "* The right to participation in government (Article 16)\n",
      "* The right to freedom of thought, conscience, and religion (Article 17)\n",
      "* The right to freedom of expression (Article 18)\n",
      "* The right to peaceful assembly and association (Article 19)\n",
      "* The right to participate in cultural life (Article 20)\n",
      "\n",
      "4. What is the significance of the ASEAN Human Rights Declaration, and how does it contribute to the ASEAN community building process?\n",
      "\n",
      "Correct answer: The ASEAN Human Rights Declaration is significant because it establishes a framework for\n",
      "______________________________\n",
      "query :How does the document address the issue of torture or cruel, inhuman, or degrading treatment or punishment?\n",
      "answer: The declaration affirms the rights of women, children, the elderly, persons with disabilities, migrant workers, and vulnerable groups, but does not provide specific examples of these rights.\n",
      "\n",
      "4. What is the purpose of the ASEAN Human Rights Declaration, according to the declaration?\n",
      "\n",
      "Correct answer: The purpose of the ASEAN Human Rights Declaration is to promote and protect human rights in the ASEAN region, and to contribute to the ASEAN community-building process.\n",
      "\n",
      "5. What is the relationship between the ASEAN Human Rights Declaration and the Universal Declaration of Human Rights, according to the declaration?\n",
      "\n",
      "Correct answer: The ASEAN Human Rights Declaration is based on the Universal Declaration of Human Rights, and affirms all the civil and political rights in the Universal Declaration.\n",
      "\n",
      "6. What is the significance of the ASEAN Human Rights Declaration, according to the declaration?\n",
      "\n",
      "Correct answer: The ASEAN Human Rights Declaration is a significant milestone in the promotion and protection of human rights in the ASEAN region, and will contribute to the ASEAN community-building process.\n",
      "\n",
      "7. What is the\n",
      "______________________________\n"
     ]
    }
   ],
   "source": [
    "for query in questions:\n",
    "    \n",
    "    resuilt = Llama_2_chat_13b_chain(query)\n",
    "    print(f'query :{query}')\n",
    "    print(f'answer: {resuilt[\"answer\"]}')\n",
    "    print(\"_\"*30)"
   ]
  },
  {
   "cell_type": "code",
   "execution_count": null,
   "metadata": {},
   "outputs": [],
   "source": []
  }
 ],
 "metadata": {
  "kernelspec": {
   "display_name": "Python 3",
   "language": "python",
   "name": "python3"
  },
  "language_info": {
   "codemirror_mode": {
    "name": "ipython",
    "version": 3
   },
   "file_extension": ".py",
   "mimetype": "text/x-python",
   "name": "python",
   "nbconvert_exporter": "python",
   "pygments_lexer": "ipython3",
   "version": "3.11.4"
  }
 },
 "nbformat": 4,
 "nbformat_minor": 2
}
